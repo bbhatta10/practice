{
 "cells": [
  {
   "cell_type": "markdown",
   "id": "bebe4299",
   "metadata": {},
   "source": [
    "<!-- Exercise 1\n",
    "In your file create a variable called my_name with your name as the value. Put your name inside string quotes, e.g., \"my name\". Then add a line of code to print the variable name. -->"
   ]
  },
  {
   "cell_type": "markdown",
   "id": "7eb38895",
   "metadata": {},
   "source": [
    "<!-- Exercise 1\n",
    "\n",
    "My Name -->"
   ]
  },
  {
   "cell_type": "code",
   "execution_count": 141,
   "id": "e3f1847e",
   "metadata": {},
   "outputs": [
    {
     "data": {
      "text/plain": [
       "'Bishnu'"
      ]
     },
     "execution_count": 141,
     "metadata": {},
     "output_type": "execute_result"
    }
   ],
   "source": [
    "my_name = \"Bishnu\"\n",
    "# print(my_name)\n",
    "my_name\n"
   ]
  },
  {
   "cell_type": "markdown",
   "id": "d6986819",
   "metadata": {},
   "source": [
    "<!-- Exercise 2\n",
    "\n",
    "Create a variable called age with a number that is your age. Do not use string quotes for numbers.\n",
    "\n",
    "Add a line to print that variable. Save the file and run the cell. You should see your age. -->"
   ]
  },
  {
   "cell_type": "markdown",
   "id": "e5a8596b",
   "metadata": {},
   "source": []
  },
  {
   "cell_type": "markdown",
   "id": "32ac744f",
   "metadata": {},
   "source": [
    "<!-- Ex-- 2  Age -->"
   ]
  },
  {
   "cell_type": "code",
   "execution_count": 142,
   "id": "083e50bf",
   "metadata": {},
   "outputs": [
    {
     "name": "stdout",
     "output_type": "stream",
     "text": [
      "28\n"
     ]
    }
   ],
   "source": [
    "age = 28\n",
    "print(age)"
   ]
  },
  {
   "cell_type": "markdown",
   "id": "41c63c0f",
   "metadata": {},
   "source": [
    "<!-- Exercise 3\n",
    "\n",
    "Create a variable called julia_age with the value 32. Create another variable called age_diff and set it to an expression that calculates your age minus Julia's age. Print your age and the value of age_diff. If you are younger than Julia, age_diff should be a negative number. -->"
   ]
  },
  {
   "cell_type": "markdown",
   "id": "a954ed9a",
   "metadata": {},
   "source": [
    "<!-- Exercise 3\n",
    "\n",
    "Create a variable called julia_age with the value 32. Create another variable called age_diff and set it to an expression that calculates your age minus Julia's age. Print your age and the value of age_diff. If you are younger than Julia, age_diff should be a negative number. -->"
   ]
  },
  {
   "cell_type": "markdown",
   "id": "3375a622",
   "metadata": {},
   "source": [
    "<!-- Exercise 3\n",
    "Create a variable called julia_age with the value 32. Create another variable called age_diff and set it to an expression that calculates your age minus Julia's age. Print your age and the value of age_diff. If you are younger than Julia, age_diff should be a negative number. -->"
   ]
  },
  {
   "cell_type": "code",
   "execution_count": null,
   "id": "15b905b4",
   "metadata": {},
   "outputs": [
    {
     "name": "stdout",
     "output_type": "stream",
     "text": [
      "35\n",
      "3\n"
     ]
    }
   ],
   "source": [
    "my_age = 35\n",
    "julia_age = 32\n",
    "age_diff = my_age - julia_age\n",
    "print(my_age)\n",
    "print(age_diff)\n",
    "\n",
    "\n",
    "\n",
    "#     else if age == julia_age:\n",
    "# print('your age is same as Juliya')\n",
    "# else print('you are younger than Juliya')\n",
    "\n",
    "#print(type(age_diff))  data type\n",
    "#Casting to convert data fooat(2)\n",
    "#print(f)\n",
    "#List\n",
    "# name\n",
    "# name.upper()\n",
    "#name.lower()\n",
    "#foxes.insert(2,'horst')\n",
    "     "
   ]
  },
  {
   "cell_type": "markdown",
   "id": "d8c6885f",
   "metadata": {},
   "source": [
    "<!-- Exercise 4\n",
    "\n",
    "Write a conditional that compares the variable holding your age with the number 21. It should print either \"You are older than 21\" or \"You are not older than 21\", appropriately, depending on your age. Save your file and run the cell. Make sure you see the correct message. Try changing your age in the file to make sure the other message prints when it should. -->"
   ]
  },
  {
   "cell_type": "markdown",
   "id": "cc6b8f93",
   "metadata": {},
   "source": [
    "<!-- Exercise 4\n",
    "\n",
    "Write a conditional that compares the variable holding your age with the number 21. It should print either \"You are older than 21\" or \"You are not older than 21\", appropriately, depending on your age. Save your file and run the cell. Make sure you see the correct message. Try changing your age in the file to make sure the other message prints when it should. -->"
   ]
  },
  {
   "cell_type": "code",
   "execution_count": 149,
   "id": "3755f71c",
   "metadata": {},
   "outputs": [
    {
     "name": "stdout",
     "output_type": "stream",
     "text": [
      "You are older than 21\n"
     ]
    }
   ],
   "source": [
    "my_age = 35\n",
    "\n",
    "if my_age< 21:\n",
    "    print('You are not older than 21')\n",
    "else:\n",
    "    print('You are older than 21')\n",
    "\n",
    "\n"
   ]
  },
  {
   "cell_type": "markdown",
   "id": "1a0b15f3",
   "metadata": {},
   "source": [
    "<!-- Exercise 5\n",
    "\n",
    "Write a conditional that compares your age with Julia's age. This conditional will need to test if you are older, younger, or the same age, and print, appropriately, either \"Julia is older than you\", \"Julia is younger than you\", or \"You are the same age as Julia\". -->"
   ]
  },
  {
   "cell_type": "markdown",
   "id": "ee643d19",
   "metadata": {},
   "source": [
    "<!-- Exercise 5\n",
    "\n",
    "Write a conditional that compares your age with Julia's age. This conditional will need to test if you are older, younger, or the same age, and print, appropriately, either \"Julia is older than you\", \"Julia is younger than you\", or \"You are the same age as Julia\". -->"
   ]
  },
  {
   "cell_type": "code",
   "execution_count": 1,
   "id": "50da3c84",
   "metadata": {},
   "outputs": [
    {
     "name": "stdout",
     "output_type": "stream",
     "text": [
      "you are older than Juliya\n"
     ]
    }
   ],
   "source": [
    "\n",
    "my_age = 35\n",
    "julia_age = 32\n",
    "# name = 'Bishnu'\n",
    "\n",
    "if my_age > julia_age:\n",
    "    print('you are older than Juliya')\n",
    "elif my_age == julia_age:\n",
    "    print('Your are the same age as Juliya')\n",
    "else: \n",
    "    print('you are younger than Juliya')\n"
   ]
  },
  {
   "cell_type": "markdown",
   "id": "46df6186",
   "metadata": {},
   "source": [
    "<!-- Exercise 6\n",
    "\n",
    "Create a list with all the names of your class (including mentors). Sort the list alphabetically, then print the first element of the list.\n",
    "On the next line, print the last element of the list. On the next line, print all the elements of the list (use a \"for\" loop). -->"
   ]
  },
  {
   "cell_type": "markdown",
   "id": "2c53df69",
   "metadata": {},
   "source": [
    "<!-- Exercise 6\n",
    "\n",
    "Create a list with all the names of your class (including mentors). Sort the list alphabetically, then print the first element of the list.\n",
    "On the next line, print the last element of the list.\n",
    "On the next line, print all the elements of the list (use a \"for\" loop). -->"
   ]
  },
  {
   "cell_type": "code",
   "execution_count": null,
   "id": "2a03a6b7",
   "metadata": {},
   "outputs": [
    {
     "name": "stdout",
     "output_type": "stream",
     "text": [
      "bishnu\n",
      "bo\n",
      "bruno\n",
      "emily\n",
      "janina\n",
      "keya\n",
      "marco\n",
      "rahul\n"
     ]
    }
   ],
   "source": [
    "##Slicing\n",
    "list = ['bishnu', 'bo', 'marco', 'rahul', 'keya', 'bruno', 'emily', 'janina']\n",
    "list.sort()\n",
    "for i in list:\n",
    "    print(i)\n",
    "\n",
    "    \n",
    "# list\n",
    "# sorted_list = list.sort()\n",
    "# print(list)\n",
    "# print(list[0])\n",
    "# print(list[2:7])\n",
    "# #print(list[2:])\n",
    "# print(list[:7])\n",
    "# list[1] = 'Boo'\n",
    "\n",
    "# list.insert(0,'Bishnu')\n",
    "# list.append('Josh')\n",
    "\n",
    "# #list.pop(1)\n",
    "# #del list\n",
    "# print(list)\n",
    "\n",
    "# print(list[-4:-1])\n",
    "\n",
    "# '''min function'''\n",
    "\n",
    "# ages = [20, 24, 14, 9, 12, 13, 25, 23, 40, 11]\n",
    "# i = min(ages)\n",
    "# print(i)\n",
    "\n"
   ]
  },
  {
   "cell_type": "markdown",
   "id": "04a0de30",
   "metadata": {},
   "source": []
  },
  {
   "cell_type": "code",
   "execution_count": 95,
   "id": "f29380fd",
   "metadata": {},
   "outputs": [
    {
     "name": "stdout",
     "output_type": "stream",
     "text": [
      "bishnu\n",
      "bo\n",
      "bruno\n",
      "keya\n",
      "emily\n",
      "janina\n",
      "marco\n",
      "rahul\n"
     ]
    }
   ],
   "source": [
    "#exercise 6\n",
    "'''List and Loop'''\n",
    "student_list = ['bishnu', 'bo', 'bruno','keya',  'emily', 'janina','marco', 'rahul']\n",
    "#print()\n",
    "#student_list\n",
    "#print(student_list)\n",
    "#student_list[0]\n",
    "#print(student_list[0])\n",
    "#print(student_list[7])\n",
    "\n",
    "# for x in student_list:\n",
    "#     print(x)\n",
    "\n",
    "\n",
    "\n",
    "for x in range(len(student_list)):\n",
    "    print(student_list[x])"
   ]
  },
  {
   "cell_type": "code",
   "execution_count": 93,
   "id": "62c76651",
   "metadata": {},
   "outputs": [
    {
     "name": "stdout",
     "output_type": "stream",
     "text": [
      "('bishnu', 'bo', 'bruno', 'keya', 'emily', 'janina', 'marco', 'rahul')\n",
      "8\n",
      "<class 'tuple'>\n"
     ]
    }
   ],
   "source": [
    "#tuple\n",
    "tuple_student_list = ('bishnu', 'bo', 'bruno','keya',  'emily', 'janina','marco', 'rahul')\n",
    "print(tuple_student_list)\n",
    "print(len(tuple_student_list))\n",
    "print(type(tuple_student_list))"
   ]
  },
  {
   "cell_type": "markdown",
   "id": "2e9b92c5",
   "metadata": {},
   "source": [
    "<!-- '''Exercise 7\n",
    "\n",
    "Create a list with all the ages of the students in your class. Iterate through the list using a for loop, and then print every age. \n",
    "Add a conditional inside the loop to only print even ages (Hint: have a look for Python's modulus operator).\n",
    "Try to do the same thing using a while loop.''' -->"
   ]
  },
  {
   "cell_type": "markdown",
   "id": "ae60be35",
   "metadata": {},
   "source": [
    "<!-- Exercise 7\n",
    "\n",
    "Create a list with all the ages of the students in your class. Iterate through the list using a for loop, and then print every age. Add a conditional inside the loop to only print even ages (Hint: have a look for Python's modulus operator). -->"
   ]
  },
  {
   "cell_type": "code",
   "execution_count": 186,
   "id": "e1561ed1",
   "metadata": {},
   "outputs": [
    {
     "name": "stdout",
     "output_type": "stream",
     "text": [
      "22\n",
      "28\n",
      "32\n",
      "42\n"
     ]
    }
   ],
   "source": [
    "\n",
    "age = [35,25,22,28,32,33,42,41]\n",
    "for x in age:\n",
    "\n",
    "    if (x %2 == 0 ):\n",
    "        print(x) \n",
    "\n",
    "# for x in age:\n",
    "#     # print(x)\n",
    "#     count = 0\n",
    "# if (x%2==0):\n",
    "#         # count = count + 1\n",
    "#     print(x)\n",
    "\n",
    "    \n",
    "    \n"
   ]
  },
  {
   "cell_type": "markdown",
   "id": "f093c1c9",
   "metadata": {},
   "source": [
    "<!-- Exercise 8\n",
    "\n",
    "Write a list containing numbers and print the lowest number. -->"
   ]
  },
  {
   "cell_type": "markdown",
   "id": "c1086527",
   "metadata": {},
   "source": [
    "<!-- Exercise 8\n",
    "\n",
    "Write a list containing numbers and print the lowest number. -->"
   ]
  },
  {
   "cell_type": "code",
   "execution_count": 187,
   "id": "e04d3d8c",
   "metadata": {},
   "outputs": [
    {
     "name": "stdout",
     "output_type": "stream",
     "text": [
      "20\n"
     ]
    }
   ],
   "source": [
    "\n",
    "age = [20,25,29,32,35,45,48]\n",
    "i = min(age)\n",
    "print(i)\n"
   ]
  },
  {
   "cell_type": "markdown",
   "id": "81955853",
   "metadata": {},
   "source": [
    "<!-- Exercise 9\n",
    "\n",
    "Write a list containing numbers and print the highest number. -->"
   ]
  },
  {
   "cell_type": "markdown",
   "id": "a3013813",
   "metadata": {},
   "source": [
    "<!-- Exercise 9\n",
    "\n",
    "Write a list containing numbers and print the highest number. -->"
   ]
  },
  {
   "cell_type": "code",
   "execution_count": 204,
   "id": "46f79b39",
   "metadata": {},
   "outputs": [
    {
     "name": "stdout",
     "output_type": "stream",
     "text": [
      "68\n"
     ]
    }
   ],
   "source": [
    "age = [20,25,68,32,35,45,30]\n",
    "age.sort()\n",
    "i = max(age)\n",
    "print(i)\n"
   ]
  },
  {
   "cell_type": "code",
   "execution_count": 2,
   "id": "67faeb62",
   "metadata": {},
   "outputs": [
    {
     "name": "stdout",
     "output_type": "stream",
     "text": [
      "35\n",
      "25\n",
      "22\n",
      "28\n",
      "32\n",
      "33\n",
      "42\n",
      "41\n"
     ]
    }
   ],
   "source": [
    "'''Loop Class'''\n",
    "#For AND while loop\n",
    "'''for variable in sequence:\n",
    "statement'''\n",
    "\n",
    "student_age = [35,25,22,28,32,33,42,41]\n",
    "for age in student_age:\n",
    "    print(age)\n",
    "\n",
    "\n"
   ]
  },
  {
   "cell_type": "code",
   "execution_count": 94,
   "id": "d46d69ff",
   "metadata": {},
   "outputs": [
    {
     "name": "stdout",
     "output_type": "stream",
     "text": [
      "bishnu\n",
      "bo\n",
      "bruno\n"
     ]
    }
   ],
   "source": [
    "#student_age = [35,25,22,28,32,33,42,41]\n",
    "student_list = ['bishnu', 'bo', 'bruno','keya',  'emily', 'janina','marco', 'rahul']\n",
    "new_list = []\n",
    "for i in student_list:\n",
    "    if 'b' in i:\n",
    "        new_list.append(i)\n",
    "        print(i)\n",
    "            \n",
    "\n",
    "# fruits = [\"apple\", \"banana\", \"cherry\", \"kiwi\", \"mango\"]\n",
    "# newlist = []\n",
    "\n",
    "# for x in fruits:\n",
    "#   if \"a\" in x:\n",
    "#     newlist.append(x)\n",
    "\n",
    "# print(newlist)\n",
    "\n",
    "# len(student_age)\n",
    "# range(7)\n",
    "#range(len(student_age))\n",
    "#loop with range(), range(), range (start,stop,step)\n",
    "# for i in range(6):\n",
    "#     print(i)\n",
    "    # '''for i in range(0,6):\n",
    "    # print(i)'''"
   ]
  },
  {
   "cell_type": "code",
   "execution_count": 88,
   "id": "b8db7711",
   "metadata": {},
   "outputs": [
    {
     "name": "stdout",
     "output_type": "stream",
     "text": [
      "['bishnu', 'bo', 'bruno', 'emily', 'janina', 'keya', 'marco', 'rahul']\n",
      "['rahul', 'marco', 'keya', 'janina', 'emily', 'bruno', 'bo', 'bishnu']\n"
     ]
    }
   ],
   "source": [
    "student_list = ['bishnu', 'bo', 'bruno','keya',  'emily', 'janina','marco', 'rahul']\n",
    "student_list.sort()\n",
    "print(student_list)\n",
    "\n",
    "student_list = ['bishnu', 'bo', 'bruno','keya',  'emily', 'janina','marco', 'rahul']\n",
    "student_list.sort(reverse=True)\n",
    "print(student_list)\n",
    "\n",
    "\n"
   ]
  },
  {
   "cell_type": "code",
   "execution_count": 137,
   "id": "7a85c5d0",
   "metadata": {},
   "outputs": [
    {
     "name": "stdout",
     "output_type": "stream",
     "text": [
      "15 35\n",
      "16 25\n",
      "17 22\n",
      "18 28\n",
      "19 32\n",
      "20 33\n",
      "21 42\n",
      "22 41\n"
     ]
    }
   ],
   "source": [
    "#'enumerate function() --result as a tuple\n",
    "student_age = [35,25,22,28,32,33,42,41]\n",
    "#for i in enumerate(student_age):\n",
    "   #print(i)\n",
    "\n",
    "for i,g in enumerate(student_age, start=15):\n",
    "   print(i,g)\n"
   ]
  },
  {
   "cell_type": "code",
   "execution_count": null,
   "id": "8155f1ae",
   "metadata": {},
   "outputs": [
    {
     "name": "stdout",
     "output_type": "stream",
     "text": [
      "35\n",
      "25\n",
      "22\n",
      "28\n",
      "32\n",
      "33\n"
     ]
    }
   ],
   "source": [
    "#Pass , Break , continue\n",
    "'''student_age = [35,25,22,28,32,33,42,41]\n",
    "for ages in student_age:\n",
    "    pass'''\n",
    "\n",
    "\n",
    "'''or i in range(30):\n",
    "    if i>10:\n",
    "        break\n",
    "        print(i)'''\n",
    "    \n",
    "student_age = [35,25,22,28,32,33,42,41]\n",
    "for i in student_age:\n",
    "    if i>35:\n",
    "        break\n",
    "    print(i)\n",
    "        #continue"
   ]
  },
  {
   "cell_type": "code",
   "execution_count": 118,
   "id": "5c17453a",
   "metadata": {},
   "outputs": [
    {
     "name": "stdout",
     "output_type": "stream",
     "text": [
      "(35, 30)\n",
      "(25, 22)\n",
      "(10, 20)\n"
     ]
    }
   ],
   "source": [
    "#upper()\n",
    "#create list of tuples \n",
    "student_age = [(35,30), (25,22),(10,20)]\n",
    "len(student_age)\n",
    "for i in student_age:\n",
    "    print(i)"
   ]
  },
  {
   "cell_type": "code",
   "execution_count": null,
   "id": "1745e592",
   "metadata": {},
   "outputs": [
    {
     "name": "stdout",
     "output_type": "stream",
     "text": [
      "infinity\n",
      "infinity\n",
      "infinity\n",
      "infinity\n",
      "infinity\n"
     ]
    }
   ],
   "source": [
    "#for loop over dictionary/ .values() / .items()/ print(item[0]item[1])\n",
    "#while loop \n",
    "#while condition true then print \n",
    "#while colour in rainbow\n",
    "'''print()\n",
    "break:\n",
    "else \n",
    "print ()'''\n",
    "\n",
    "x = 0\n",
    "while x < 5: \n",
    "    print('finity')\n",
    "    x = x + 1\n",
    "\n",
    "     "
   ]
  },
  {
   "cell_type": "code",
   "execution_count": 136,
   "id": "ba84eab0",
   "metadata": {},
   "outputs": [
    {
     "name": "stdout",
     "output_type": "stream",
     "text": [
      "red is in rainbow\n"
     ]
    }
   ],
   "source": [
    "#rainbow conformation program\n",
    "rainbow = ['red','blue','green']\n",
    "color = input('Type a color or the rainbow')\n",
    "color\n",
    "while color in rainbow:\n",
    "    print(color, 'is in rainbow')\n",
    "    break\n",
    "else:\n",
    "    print(color,'is not a color of rainbow')"
   ]
  },
  {
   "cell_type": "code",
   "execution_count": null,
   "id": "1c164ce1",
   "metadata": {},
   "outputs": [],
   "source": []
  },
  {
   "cell_type": "code",
   "execution_count": 116,
   "id": "94809350",
   "metadata": {},
   "outputs": [
    {
     "name": "stdout",
     "output_type": "stream",
     "text": [
      "f\n",
      "o\n",
      "e\n",
      "s\n"
     ]
    }
   ],
   "source": [
    "#for loop for string\n",
    "cohort = 'foxes'\n",
    "for i in cohort:\n",
    "    if i != 'x':\n",
    "        print(i)\n",
    "    "
   ]
  },
  {
   "cell_type": "code",
   "execution_count": null,
   "id": "0852baf5",
   "metadata": {},
   "outputs": [],
   "source": [
    "#nested loop : stars\n",
    "for i in range(3):\n",
    "    for j in range(4):\n",
    "        print('*',end= ' ')\n",
    "\n",
    "#multiplication table\n",
    "#list comprehension\n",
    "#copy if list in traditional way / using append(i)\n",
    "#list_copy = [i for i in my_list] #best way"
   ]
  },
  {
   "cell_type": "code",
   "execution_count": null,
   "id": "d54b28ea",
   "metadata": {},
   "outputs": [
    {
     "ename": "AttributeError",
     "evalue": "'list' object has no attribute 'items'",
     "output_type": "error",
     "traceback": [
      "\u001b[31m---------------------------------------------------------------------------\u001b[39m",
      "\u001b[31mAttributeError\u001b[39m                            Traceback (most recent call last)",
      "\u001b[36mCell\u001b[39m\u001b[36m \u001b[39m\u001b[32mIn[3]\u001b[39m\u001b[32m, line 14\u001b[39m\n\u001b[32m      1\u001b[39m customer_list = [\n\u001b[32m      2\u001b[39m                     {\u001b[33m\"\u001b[39m\u001b[33mname\u001b[39m\u001b[33m\"\u001b[39m: \u001b[33m\"\u001b[39m\u001b[33mBob\u001b[39m\u001b[33m\"\u001b[39m, \u001b[33m\"\u001b[39m\u001b[33mage\u001b[39m\u001b[33m\"\u001b[39m: \u001b[32m1999\u001b[39m},\n\u001b[32m      3\u001b[39m                     {\u001b[33m\"\u001b[39m\u001b[33mname\u001b[39m\u001b[33m\"\u001b[39m: \u001b[33m\"\u001b[39m\u001b[33mJack\u001b[39m\u001b[33m\"\u001b[39m, \u001b[33m\"\u001b[39m\u001b[33mage\u001b[39m\u001b[33m\"\u001b[39m: \u001b[32m1995\u001b[39m},\n\u001b[32m   (...)\u001b[39m\u001b[32m     11\u001b[39m                     {\u001b[33m\"\u001b[39m\u001b[33mname\u001b[39m\u001b[33m\"\u001b[39m: \u001b[33m\"\u001b[39m\u001b[33mEtta\u001b[39m\u001b[33m\"\u001b[39m, \u001b[33m\"\u001b[39m\u001b[33mage\u001b[39m\u001b[33m\"\u001b[39m: \u001b[32m2008\u001b[39m}\n\u001b[32m     12\u001b[39m ]\n\u001b[32m---> \u001b[39m\u001b[32m14\u001b[39m \u001b[38;5;28;01mfor\u001b[39;00m customer \u001b[38;5;129;01min\u001b[39;00m \u001b[43mcustomer_list\u001b[49m\u001b[43m.\u001b[49m\u001b[43mitems\u001b[49m():\n\u001b[32m     15\u001b[39m     name = customer[name]\n\u001b[32m     16\u001b[39m     age = customer[age]\n",
      "\u001b[31mAttributeError\u001b[39m: 'list' object has no attribute 'items'"
     ]
    }
   ],
   "source": [
    "# customer_list = [\n",
    "#                     {\"name\": \"Bob\", \"age\": 1999},\n",
    "#                     {\"name\": \"Jack\", \"age\": 1995},\n",
    "#                     {\"name\": \"Lisa\", \"age\": 2005},\n",
    "#                     {\"name\": \"Maria\", \"age\": 2010},\n",
    "#                     {\"name\": \"Ben\", \"age\": 2007},\n",
    "#                     {\"name\": \"Emma\", \"age\": 2006},\n",
    "#                     {\"name\": \"Oscar\", \"age\": 1994},\n",
    "#                     {\"name\": \"Amy\", \"age\": 1996},\n",
    "#                     {\"name\": \"Paul\", \"age\": 1979},\n",
    "#                     {\"name\": \"Etta\", \"age\": 2008}\n",
    "# ]\n",
    "\n",
    "# for customer in customer_list.items():\n",
    "#     name = customer[name]\n",
    "#     age = customer[age]\n",
    "#     print(f\"name\")\n",
    "\n",
    "\n",
    "# #     print(customer_list)"
   ]
  },
  {
   "cell_type": "markdown",
   "id": "2dcc70c9",
   "metadata": {},
   "source": [
    "<!-- # Exercise 15\n",
    "\n",
    "# Write a function that takes a person's name and prints a custom message for them.\n",
    "\n",
    "# E.g. Function name: welcome\n",
    "\n",
    "# welcome('Evelyn') would print- 'Welcome Evelyn, have a nice day!'\n",
    "\n",
    "# welcome('Jost'), would print - 'Welcome Jost, have a nice day!' -->"
   ]
  },
  {
   "cell_type": "markdown",
   "id": "a78c47f0",
   "metadata": {},
   "source": [
    "<!-- Exercise 15\n",
    "Write a function that takes a person's name and prints a custom message for them.\n",
    "E.g. Function name: welcome -->"
   ]
  },
  {
   "cell_type": "code",
   "execution_count": 5,
   "id": "4f3c479f",
   "metadata": {},
   "outputs": [
    {
     "data": {
      "text/plain": [
       "'Welcome Evelyn have a nice day!'"
      ]
     },
     "execution_count": 5,
     "metadata": {},
     "output_type": "execute_result"
    }
   ],
   "source": [
    "\n",
    "\n",
    "def person_name(name):\n",
    "    return (f\"Welcome \" + name +' have a nice day!')\n",
    "person_name('Evelyn')\n",
    "# person_name('Josh')\n",
    "\n",
    "\n"
   ]
  },
  {
   "cell_type": "markdown",
   "id": "3f42c521",
   "metadata": {},
   "source": [
    "<!-- # Exercise 16\n",
    "\n",
    "# Write a function that takes a string as input and calculates the length.\n",
    "# Function name: get_length\n",
    "# get_length('Hello') would print / return 5.\n",
    "get_length('Hi') would print / return 2. -->"
   ]
  },
  {
   "cell_type": "code",
   "execution_count": 4,
   "id": "8a92f516",
   "metadata": {},
   "outputs": [
    {
     "data": {
      "text/plain": [
       "5"
      ]
     },
     "execution_count": 4,
     "metadata": {},
     "output_type": "execute_result"
    }
   ],
   "source": [
    "\n",
    "def get_length(string):\n",
    "    return len(string)\n",
    "get_length('Hello')\n"
   ]
  },
  {
   "cell_type": "markdown",
   "id": "99bee513",
   "metadata": {},
   "source": [
    "<!-- Exercise 17\n",
    "\n",
    "Write a function which checks whether a number is even.\n",
    "Function name: check_even\n",
    "check_even(6) would print / return 'Yes'\n",
    "check_even(5) would print / return 'No' -->"
   ]
  },
  {
   "cell_type": "markdown",
   "id": "66a940de",
   "metadata": {},
   "source": [
    "<!-- # Write a function which checks whether a number is even.\n",
    "# Function name: check_even\n",
    "# check_even(6) would print / return 'Yes'\n",
    "# check_even(5) would print / return 'No' -->"
   ]
  },
  {
   "cell_type": "code",
   "execution_count": 6,
   "id": "09a9c88c",
   "metadata": {},
   "outputs": [
    {
     "data": {
      "text/plain": [
       "'NO'"
      ]
     },
     "execution_count": 6,
     "metadata": {},
     "output_type": "execute_result"
    }
   ],
   "source": [
    "\n",
    "def check_even(num):\n",
    "    if num % 2 == 0:\n",
    "        return 'Yes'\n",
    "    return 'NO'\n",
    "check_even(5)"
   ]
  },
  {
   "cell_type": "markdown",
   "id": "af5ab33a",
   "metadata": {},
   "source": [
    "<!-- Ex--19 -->\n",
    "<!-- # Write a function that takes a list of integers and also a single integer as inputs. \n",
    "# It should return true or false if the single integer value is present or not in the list. -->"
   ]
  },
  {
   "cell_type": "markdown",
   "id": "b20ce055",
   "metadata": {},
   "source": [
    "<!-- Ex 11 with Function\n",
    "Use a function to iterate over the list and print the name and age of each customer.\n",
    "Afterwards, for each customer try to print the sentence \"customer_name is customer_age years old\".\n",
    "customer_name and customer_age should correspond to each customer's name and age. -->"
   ]
  },
  {
   "cell_type": "code",
   "execution_count": null,
   "id": "bab51e7c",
   "metadata": {},
   "outputs": [
    {
     "name": "stdout",
     "output_type": "stream",
     "text": [
      "{'name': 'Bob', 'age': 1999}\n",
      "{'name': 'Jack', 'age': 1995}\n",
      "{'name': 'Lisa', 'age': 2005}\n",
      "{'name': 'Maria', 'age': 2010}\n",
      "{'name': 'Ben', 'age': 2007}\n",
      "{'name': 'Emma', 'age': 2006}\n",
      "{'name': 'Oscar', 'age': 1994}\n",
      "{'name': 'Amy', 'age': 1996}\n",
      "{'name': 'Paul', 'age': 1979}\n",
      "{'name': 'Etta', 'age': 2008}\n"
     ]
    },
    {
     "ename": "",
     "evalue": "",
     "output_type": "error",
     "traceback": [
      "\u001b[1;31mThe Kernel crashed while executing code in the current cell or a previous cell. \n",
      "\u001b[1;31mPlease review the code in the cell(s) to identify a possible cause of the failure. \n",
      "\u001b[1;31mClick <a href='https://aka.ms/vscodeJupyterKernelCrash'>here</a> for more info. \n",
      "\u001b[1;31mView Jupyter <a href='command:jupyter.viewOutput'>log</a> for further details."
     ]
    }
   ],
   "source": [
    "customer_list = [\n",
    "                    {\"name\": \"Bob\", \"age\": 1999},\n",
    "                    {\"name\": \"Jack\", \"age\": 1995},\n",
    "                    {\"name\": \"Lisa\", \"age\": 2005},\n",
    "                    {\"name\": \"Maria\", \"age\": 2010},\n",
    "                    {\"name\": \"Ben\", \"age\": 2007},\n",
    "                    {\"name\": \"Emma\", \"age\": 2006},\n",
    "                    {\"name\": \"Oscar\", \"age\": 1994},\n",
    "                    {\"name\": \"Amy\", \"age\": 1996},\n",
    "                    {\"name\": \"Paul\", \"age\": 1979},\n",
    "                    {\"name\": \"Etta\", \"age\": 2008}\n",
    "                ]\n",
    "def cust_list():\n",
    "    for i in customer_list:\n",
    "        print(i) \n",
    "cust_list()\n"
   ]
  }
 ],
 "metadata": {
  "kernelspec": {
   "display_name": "SilverFoxes",
   "language": "python",
   "name": "python3"
  },
  "language_info": {
   "codemirror_mode": {
    "name": "ipython",
    "version": 3
   },
   "file_extension": ".py",
   "mimetype": "text/x-python",
   "name": "python",
   "nbconvert_exporter": "python",
   "pygments_lexer": "ipython3",
   "version": "3.12.11"
  }
 },
 "nbformat": 4,
 "nbformat_minor": 5
}
