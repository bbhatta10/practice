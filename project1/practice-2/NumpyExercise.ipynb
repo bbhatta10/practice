{
 "cells": [
  {
   "cell_type": "code",
   "execution_count": null,
   "id": "0f54916a",
   "metadata": {},
   "outputs": [
    {
     "data": {
      "text/plain": [
       "dtype('int32')"
      ]
     },
     "execution_count": 9,
     "metadata": {},
     "output_type": "execute_result"
    }
   ],
   "source": [
    "# import numpy as np \n",
    "\n",
    "# # 'define 1 d array'\n",
    "# my_list = [1,2,3,4,5,6] \n",
    "# my_list\n",
    "# my_arr = np.array(my_list)\n",
    "# my_arr\n",
    "\n",
    "# # define 2d array \n",
    "# # my_arr2 = np.array[[1,2,3],[4,5,6],[7,7,9]]\n",
    "# # my_arr2\n",
    "\n",
    "# #ndim dimensions\n",
    "# my_arr.ndim\n",
    "\n",
    "# # 'shape'\n",
    "# my_arr.shape\n",
    "\n",
    "# # '#size'\n",
    "# my_arr.size\n",
    "\n",
    "# # datayype\n",
    "\n",
    "# my_arr.dtype"
   ]
  },
  {
   "cell_type": "code",
   "execution_count": 18,
   "id": "1efe29ed",
   "metadata": {},
   "outputs": [
    {
     "data": {
      "text/plain": [
       "array([[[1, 2, 3],\n",
       "        [4, 5, 6],\n",
       "        [7, 8, 9]],\n",
       "\n",
       "       [[1, 2, 3],\n",
       "        [4, 5, 6],\n",
       "        [7, 8, 9]],\n",
       "\n",
       "       [[1, 2, 3],\n",
       "        [4, 5, 6],\n",
       "        [7, 8, 9]]])"
      ]
     },
     "execution_count": 18,
     "metadata": {},
     "output_type": "execute_result"
    }
   ],
   "source": [
    "# import library\n",
    "import numpy as np \n",
    "# creating 1D array\n",
    "my_list = [1,2,3,4,5,6,7,8,9]\n",
    "my_list\n",
    "my_arr = np.array(my_list)\n",
    "my_arr\n",
    "my_arr = np.array([1,2,3,4,5,6,7,8,9])\n",
    "my_arr\n",
    "\n",
    "# \"2D array\"\n",
    "my_list2d = [[1,2,3],[4,5,6],[7,8,9]]\n",
    "my_arr2d = np.array(my_list2d)\n",
    "my_arr2d\n",
    "\n",
    "# 3D array\n",
    "my_list3d = [[[1,2,3],[4,5,6],[7,8,9]],[[1,2,3],[4,5,6],[7,8,9]],[[1,2,3],[4,5,6],[7,8,9]]]\n",
    "my_arr3d = np.array(my_list3d)\n",
    "my_arr3d"
   ]
  },
  {
   "cell_type": "code",
   "execution_count": 23,
   "id": "222f56a5",
   "metadata": {},
   "outputs": [
    {
     "data": {
      "text/plain": [
       "dtype('int32')"
      ]
     },
     "execution_count": 23,
     "metadata": {},
     "output_type": "execute_result"
    }
   ],
   "source": [
    "# 'detail abt array'\n",
    "# my_arr3d.ndim\n",
    "# my_arr2d.shape\n",
    "# my_arr2d.size\n",
    "my_arr2d.dtype"
   ]
  },
  {
   "cell_type": "code",
   "execution_count": 28,
   "id": "a64546da",
   "metadata": {},
   "outputs": [
    {
     "data": {
      "text/plain": [
       "array([1, 2, 3])"
      ]
     },
     "execution_count": 28,
     "metadata": {},
     "output_type": "execute_result"
    }
   ],
   "source": [
    "# Subestting and slicing \n",
    "orig_list = [1,2,3,4,5,6,7,8,9]\n",
    "orig_arr = np.array(orig_list)\n",
    "orig_arr\n",
    "# 'slicing'\n",
    "orig_arr[:3]\n"
   ]
  },
  {
   "cell_type": "code",
   "execution_count": 36,
   "id": "1680bb9d",
   "metadata": {},
   "outputs": [
    {
     "name": "stdout",
     "output_type": "stream",
     "text": [
      "[100 100 100   4   5   6   7   8   9]\n",
      "[100 100 100   4   5   6   7   8   9]\n"
     ]
    }
   ],
   "source": [
    "print(orig_arr)\n",
    "# assigning new value \n",
    "new_arr = orig_arr[:3] \n",
    "new_arr\n",
    "\n",
    "new_arr[:] = 100\n",
    "new_arr\n",
    "print(orig_arr)"
   ]
  },
  {
   "cell_type": "code",
   "execution_count": 40,
   "id": "f231f5ea",
   "metadata": {},
   "outputs": [
    {
     "name": "stdout",
     "output_type": "stream",
     "text": [
      "[100 100 100   4   5   6   7   8   9]\n",
      "None\n"
     ]
    }
   ],
   "source": [
    "orig_list = [1,2,3,4,5,6,7,8,9]\n",
    "orig_arr = np.array(orig_list)\n",
    "orig_arr\n",
    "copy_arr = orig_arr[:3].copy()\n",
    "copy_arr\n",
    "orig_arr\n",
    "print(new_arr.base)\n",
    "print(copy_arr.base)"
   ]
  },
  {
   "cell_type": "code",
   "execution_count": 90,
   "id": "b924acd6",
   "metadata": {},
   "outputs": [
    {
     "name": "stdout",
     "output_type": "stream",
     "text": [
      "[[1 2 3]\n",
      " [4 5 6]\n",
      " [7 8 9]]\n"
     ]
    },
    {
     "data": {
      "text/plain": [
       "array([4, 6])"
      ]
     },
     "execution_count": 90,
     "metadata": {},
     "output_type": "execute_result"
    }
   ],
   "source": [
    "my_list2d = [[1,2,3],[4,5,6],[7,8,9]]\n",
    "my_arr2d = np.array(my_list2d)\n",
    "my_arr2d\n",
    "print(my_arr2d)\n",
    "# my_arr2d[1][1]\n",
    "my_arr2d[2,1]\n",
    "# my_arr2d\n",
    "my_arr2d[1:,1:]\n",
    "\n",
    "# my_arr2d[1:,1: ]\n",
    "# my_arr2d[:2,]\n",
    "# my_arr2d[1:,:2]\n",
    "# my_arr2d[:2, :2]\n",
    "my_arr2d[1]\n",
    "my_arr2d[1,[0,2]]\n"
   ]
  },
  {
   "cell_type": "code",
   "execution_count": null,
   "id": "f0b208f5",
   "metadata": {},
   "outputs": [
    {
     "data": {
      "text/plain": [
       "8"
      ]
     },
     "execution_count": 93,
     "metadata": {},
     "output_type": "execute_result"
    }
   ],
   "source": [
    "# np.array(my_arr2d,dtype=bool)\n",
    "my_arr2d.argmax()\n",
    "my_arr2d"
   ]
  },
  {
   "cell_type": "markdown",
   "id": "75c12534",
   "metadata": {},
   "source": [
    "<!-- Exercise 1\n",
    "\n",
    "There are 5 numbers in the data set: (8, 12, 16, 24, 4).\n",
    "\n",
    "What is the mean?\n",
    "What will be the sum of deviations of individual data points from their mean?\n",
    "What is the standard deviation? -->"
   ]
  },
  {
   "cell_type": "code",
   "execution_count": null,
   "id": "4e5853f2",
   "metadata": {},
   "outputs": [
    {
     "name": "stdout",
     "output_type": "stream",
     "text": [
      "[ 8 12 16 24  4]\n"
     ]
    },
    {
     "data": {
      "text/plain": [
       "12.8"
      ]
     },
     "execution_count": 107,
     "metadata": {},
     "output_type": "execute_result"
    }
   ],
   "source": [
    "import numpy as np\n",
    "data_set = (8, 12, 16, 24, 4)\n",
    "data_arr = np.array(data_set)\n",
    "print(data_arr)\n",
    "\n",
    "mean_value = np.mean(data_arr)\n",
    "mean_value\n",
    "\n",
    "# mode_value = np.mod(data_arr)\n",
    "# mode_value\n",
    "\n",
    "# mean = (8+12+16+24+4)/5\n",
    "# print(mean)"
   ]
  },
  {
   "cell_type": "code",
   "execution_count": 114,
   "id": "e2a88029",
   "metadata": {},
   "outputs": [
    {
     "name": "stdout",
     "output_type": "stream",
     "text": [
      "[2 4]\n",
      "[2 3 4 5]\n"
     ]
    }
   ],
   "source": [
    "import numpy as np\n",
    "\n",
    "arr = np.array([1, 2, 3, 4, 5, 6, 7])\n",
    "# print(arr[1:])\n",
    "print(arr[1:5:2])\n",
    "\n",
    "print(arr[1:5:])\n"
   ]
  },
  {
   "cell_type": "code",
   "execution_count": 115,
   "id": "3e24538e",
   "metadata": {},
   "outputs": [
    {
     "data": {
      "text/plain": [
       "array([[1, 2, 3],\n",
       "       [4, 5, 6],\n",
       "       [7, 8, 9]])"
      ]
     },
     "execution_count": 115,
     "metadata": {},
     "output_type": "execute_result"
    }
   ],
   "source": [
    "import numpy as np\n",
    "\n",
    "arr2 = np.array([[1,2,3],[4,5,6],[7,8,9]])\n",
    "arr2"
   ]
  },
  {
   "cell_type": "code",
   "execution_count": null,
   "id": "e22be57e",
   "metadata": {},
   "outputs": [],
   "source": []
  }
 ],
 "metadata": {
  "kernelspec": {
   "display_name": "SilverFoxes",
   "language": "python",
   "name": "python3"
  },
  "language_info": {
   "codemirror_mode": {
    "name": "ipython",
    "version": 3
   },
   "file_extension": ".py",
   "mimetype": "text/x-python",
   "name": "python",
   "nbconvert_exporter": "python",
   "pygments_lexer": "ipython3",
   "version": "3.12.11"
  }
 },
 "nbformat": 4,
 "nbformat_minor": 5
}
