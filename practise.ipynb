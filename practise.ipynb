{
 "cells": [
  {
   "cell_type": "code",
   "execution_count": null,
   "id": "7435dad2",
   "metadata": {},
   "outputs": [
    {
     "name": "stdout",
     "output_type": "stream",
     "text": [
      "20\n"
     ]
    }
   ],
   "source": [
    "# lowest number \n",
    "\n",
    "age = [20,25,29,32,35,45,48]\n",
    "i = min(age)\n",
    "print(i)\n"
   ]
  },
  {
   "cell_type": "code",
   "execution_count": 2,
   "id": "50a29cac",
   "metadata": {},
   "outputs": [
    {
     "name": "stdout",
     "output_type": "stream",
     "text": [
      "48\n"
     ]
    }
   ],
   "source": [
    "# highest number\n",
    "age = [20,25,29,32,35,45,48]\n",
    "i = max(age)\n",
    "print(i)\n"
   ]
  },
  {
   "cell_type": "markdown",
   "id": "15aad2d3",
   "metadata": {},
   "source": [
    "<!-- Exercise 10\n",
    "\n",
    "Given below is a list of 10 customers with year of birth, however, the list can be as large as several thousands of customers. \n",
    "Use a loop to iterate over the list and print the age of each customer.\n",
    " -->\n"
   ]
  },
  {
   "cell_type": "code",
   "execution_count": 28,
   "id": "a410440c",
   "metadata": {},
   "outputs": [
    {
     "name": "stdout",
     "output_type": "stream",
     "text": [
      "35\n",
      "25\n",
      "20\n",
      "30\n",
      "18\n",
      "19\n",
      "31\n",
      "29\n",
      "46\n",
      "17\n"
     ]
    }
   ],
   "source": [
    "year_of_birth = [1990, 2000, 2005, 1995, 2007, 2006, 1994, 1996, 1979, 2008]\n",
    "#age = []\n",
    "#current_year = 2025\n",
    "for i in year_of_birth:\n",
    "    age = 2025 - i\n",
    "    print(age)"
   ]
  },
  {
   "cell_type": "code",
   "execution_count": null,
   "id": "f6447023",
   "metadata": {},
   "outputs": [],
   "source": []
  },
  {
   "cell_type": "markdown",
   "id": "1803276d",
   "metadata": {},
   "source": [
    "Use a loop to iterate over the list and print the name and age of each customer.\n",
    "Afterwards, for each customer try to print the sentence \"customer_name is customer_age years old\".\n",
    "customer_name and customer_age should correspond to each customer's name and age."
   ]
  },
  {
   "cell_type": "code",
   "execution_count": 22,
   "id": "6772a8a4",
   "metadata": {},
   "outputs": [
    {
     "name": "stdout",
     "output_type": "stream",
     "text": [
      "Bob is 26 years old.\n",
      "Jack is 30 years old.\n",
      "Lisa is 20 years old.\n",
      "Maria is 15 years old.\n",
      "Ben is 18 years old.\n",
      "Emma is 19 years old.\n",
      "Oscar is 31 years old.\n",
      "Amy is 29 years old.\n",
      "Paul is 46 years old.\n",
      "Etta is 17 years old.\n"
     ]
    }
   ],
   "source": [
    "customer_list = [\n",
    "                    {\"name\": \"Bob\", \"age\": 1999},\n",
    "                    {\"name\": \"Jack\", \"age\": 1995},\n",
    "                    {\"name\": \"Lisa\", \"age\": 2005},\n",
    "                    {\"name\": \"Maria\", \"age\": 2010},\n",
    "                    {\"name\": \"Ben\", \"age\": 2007},\n",
    "                    {\"name\": \"Emma\", \"age\": 2006},\n",
    "                    {\"name\": \"Oscar\", \"age\": 1994},\n",
    "                    {\"name\": \"Amy\", \"age\": 1996},\n",
    "                    {\"name\": \"Paul\", \"age\": 1979},\n",
    "                    {\"name\": \"Etta\", \"age\": 2008}\n",
    "                ]\n",
    "\n",
    "\n",
    "\n",
    "for customer in customer_list:\n",
    "    name = customer[\"name\"]\n",
    "    birth_year = customer[\"age\"]\n",
    "    age = 2025 - birth_year\n",
    "    print(f\"{name} is {age} years old.\")\n",
    "\n",
    "\n",
    "\n"
   ]
  },
  {
   "cell_type": "code",
   "execution_count": 23,
   "id": "308dcb34",
   "metadata": {},
   "outputs": [
    {
     "name": "stdout",
     "output_type": "stream",
     "text": [
      "Bob is 26 years old.\n",
      "Jack is 30 years old.\n",
      "Lisa is 20 years old.\n",
      "Maria is 15 years old.\n",
      "Ben is 18 years old.\n",
      "Emma is 19 years old.\n",
      "Oscar is 31 years old.\n",
      "Amy is 29 years old.\n",
      "Paul is 46 years old.\n",
      "Etta is 17 years old.\n"
     ]
    }
   ],
   "source": [
    "from datetime import datetime\n",
    "\n",
    "for customer in customer_list:\n",
    "    name = customer[\"name\"]\n",
    "    birth_year = customer[\"age\"]\n",
    "    current_year = datetime.now().year\n",
    "    age = current_year - birth_year\n",
    "    print(f\"{name} is {age} years old.\")\n"
   ]
  },
  {
   "cell_type": "code",
   "execution_count": 86,
   "id": "fe2893ce",
   "metadata": {},
   "outputs": [
    {
     "name": "stdout",
     "output_type": "stream",
     "text": [
      "Bob is 26 years old.\n",
      "Jack is 30 years old.\n",
      "Lisa is 20 years old.\n",
      "Maria is 15 years old.\n",
      "Ben is 18 years old.\n",
      "Emma is 19 years old.\n",
      "Oscar is 31 years old.\n",
      "Amy is 29 years old.\n",
      "Paul is 46 years old.\n",
      "Etta is 17 years old.\n"
     ]
    }
   ],
   "source": [
    "def cust_info(list):\n",
    "    for customer in customer_list:\n",
    "        name = customer[\"name\"]\n",
    "        birth_year = customer[\"age\"]\n",
    "        age = 2025 - birth_year\n",
    "        print(f\"{name} is {age} years old.\")\n",
    "    # return f\"{name} is {age} years old.\"\n",
    "\n",
    "\n",
    "cust_info(customer_list)\n"
   ]
  },
  {
   "cell_type": "markdown",
   "id": "20458465",
   "metadata": {},
   "source": [
    "<!-- Exercise 12 Given a list of ages, remove the youngest and the oldest person. -->"
   ]
  },
  {
   "cell_type": "code",
   "execution_count": null,
   "id": "461b7706",
   "metadata": {},
   "outputs": [
    {
     "name": "stdout",
     "output_type": "stream",
     "text": [
      "5\n",
      "[16, 24, 14, 19, 12, 70, 13, 10, 23, 40, 68]\n",
      "70\n",
      "[16, 24, 14, 19, 12, 13, 10, 23, 40, 68]\n"
     ]
    }
   ],
   "source": [
    "ages = [16, 24, 14, 19, 12, 70, 13, 10, 23, 40, 5, 68]\n",
    "youngest = ages[0] \n",
    "for i in ages:\n",
    "    if i < youngest: \n",
    "        youngest = i\n",
    "        new_age_list = ages\n",
    "\n",
    "print(youngest)\n",
    "\n",
    "ages.remove(youngest)\n",
    "print(ages)\n",
    "\n",
    "# oldest = new_age_list[0]\n",
    "oldest = ages[0]\n",
    "final_age_list = []\n",
    "for x in ages:\n",
    "    if x > oldest:\n",
    "        oldest = x \n",
    "        final_age_list = ages\n",
    "print(oldest)\n",
    "ages.remove(oldest)\n",
    "print(ages)\n",
    "\n",
    "\n"
   ]
  },
  {
   "cell_type": "code",
   "execution_count": 259,
   "id": "6771e491",
   "metadata": {},
   "outputs": [
    {
     "name": "stdout",
     "output_type": "stream",
     "text": [
      "[1, 5, 10, 13, 16, 19, 23, 24, 40, 68, 70, 88]\n",
      "[5, 10, 13, 16, 19, 23, 24, 40, 68, 70]\n"
     ]
    }
   ],
   "source": [
    "\n",
    "ages = [16, 24, 1, 19, 88, 70, 13, 10, 23, 40, 5, 68]\n",
    "ages.sort()\n",
    "print(ages)\n",
    "# new_ages = ages[1:-1] \n",
    "new_ages = ages[1:11]\n",
    "print(new_ages)\n",
    "\n",
    "# oldest = ages[]\n",
    "\n",
    "# ages.sort()\n",
    "# newls=ages[1:-1]\n",
    "# print(newls)"
   ]
  },
  {
   "cell_type": "markdown",
   "id": "f9e68b2c",
   "metadata": {},
   "source": [
    "<!-- Exercise 13\n",
    "\n",
    "You have two lists with ages of customers from different cities. Remove the duplicates.\n",
    " -->\n"
   ]
  },
  {
   "cell_type": "code",
   "execution_count": 311,
   "id": "cba90c09",
   "metadata": {},
   "outputs": [
    {
     "name": "stdout",
     "output_type": "stream",
     "text": [
      "[26, 13, 16, 18, 19]\n"
     ]
    }
   ],
   "source": [
    "# age = [76, 13, 16, 18, 19, 16, 13, 76]\n",
    "age = [26, 13, 16, 18, 19, 13, 18]\n",
    "age = list(dict.fromkeys(age))\n",
    "# age.sort()\n",
    "print(age)\n"
   ]
  },
  {
   "cell_type": "markdown",
   "id": "093450ab",
   "metadata": {},
   "source": [
    "<!-- Now using function  -->"
   ]
  },
  {
   "cell_type": "code",
   "execution_count": 310,
   "id": "7682ce01",
   "metadata": {},
   "outputs": [
    {
     "data": {
      "text/plain": [
       "[26, 13, 16, 18, 19]"
      ]
     },
     "execution_count": 310,
     "metadata": {},
     "output_type": "execute_result"
    }
   ],
   "source": [
    "age = [26, 13, 16, 18, 19, 13, 18]\n",
    "def age_remove_dup():\n",
    "    return list(dict.fromkeys(age))\n",
    "age_remove_dup()\n",
    "\n",
    "\n",
    "    \n"
   ]
  },
  {
   "cell_type": "markdown",
   "id": "cac3123d",
   "metadata": {},
   "source": [
    "<!-- Exercise 13\n",
    "\n",
    "You have two lists with ages of customers from different cities. The task is to create a new list with the common ages.\n",
    " -->\n"
   ]
  },
  {
   "cell_type": "code",
   "execution_count": 392,
   "id": "1284c911",
   "metadata": {},
   "outputs": [
    {
     "name": "stdout",
     "output_type": "stream",
     "text": [
      "[10, 13, 15, 16, 18, 19]\n"
     ]
    }
   ],
   "source": [
    "berlin = [15, 13, 16, 18, 19, 10, 12 ]\n",
    "munich = [7, 13, 15, 20, 19, 18, 10, 16]\n",
    "# new_list_BM = list(set(berlin).intersection(munich))\n",
    "new_list_BM = list(set(berlin) & set(munich))\n",
    "print(new_list_BM)\n"
   ]
  },
  {
   "cell_type": "code",
   "execution_count": 342,
   "id": "6f9a697b",
   "metadata": {},
   "outputs": [
    {
     "name": "stdout",
     "output_type": "stream",
     "text": [
      "{10, 13, 15, 16, 18, 19}\n"
     ]
    }
   ],
   "source": [
    "\n",
    "common = set(berlin) & set(munich)\n",
    "print(common)"
   ]
  },
  {
   "cell_type": "code",
   "execution_count": 338,
   "id": "6763d0fd",
   "metadata": {},
   "outputs": [
    {
     "name": "stdout",
     "output_type": "stream",
     "text": [
      "[15, 13, 16, 18, 19, 10]\n"
     ]
    }
   ],
   "source": [
    "new = []\n",
    "for i in berlin:\n",
    "        if i in munich:\n",
    "            new.append(i)\n",
    "\n",
    "            # print(new.append(i))\n",
    "        # new = i.append()\n",
    "print(new)"
   ]
  },
  {
   "cell_type": "markdown",
   "id": "14d91812",
   "metadata": {},
   "source": [
    "Using function \n"
   ]
  },
  {
   "cell_type": "code",
   "execution_count": 425,
   "id": "a388adc0",
   "metadata": {},
   "outputs": [],
   "source": [
    "\n",
    "# def common_age(berlin,munich):\n",
    "#     new_list = []\n",
    "#     new_list = list(set(berlin) & set(munich))\n",
    "#     return(new_list)\n",
    "\n",
    "\n",
    "# def common_age(berlin,munich):\n",
    "#     new_result = []\n",
    "#     for e in berlin:\n",
    "#         if e in munich:\n",
    "#             new.append(e)\n",
    "#     return new_result\n",
    "#     # return new\n",
    "\n",
    "list1 = [15, 13, 16, 18, 19, 10, 12 ]\n",
    "list2 = [7, 13, 15, 20, 19, 18, 10, 16]\n",
    "def common_elements(list1, list2):\n",
    "    result = []\n",
    "    for element in list1:\n",
    "        if element in list2:\n",
    "            result.append(element)\n",
    "    return result\n",
    "\n"
   ]
  },
  {
   "cell_type": "markdown",
   "id": "2bcf77d7",
   "metadata": {},
   "source": [
    "<!-- Ex 19\n",
    "Write a function that takes a list of integers and also a single integer as inputs. It should return true or false if the single integer value is present or not in the list. -->"
   ]
  },
  {
   "cell_type": "code",
   "execution_count": 34,
   "id": "2017a1ef",
   "metadata": {},
   "outputs": [
    {
     "data": {
      "text/plain": [
       "True"
      ]
     },
     "execution_count": 34,
     "metadata": {},
     "output_type": "execute_result"
    }
   ],
   "source": [
    "def fun_check(list:list[int], x:int):\n",
    "    # if list is list.type:\n",
    "\n",
    "    for number in list:\n",
    "        if number == x:\n",
    "            return True\n",
    "    return False\n",
    "fun_check([20.0], 20)\n",
    "# fun_check()"
   ]
  },
  {
   "cell_type": "markdown",
   "id": "aa5700da",
   "metadata": {},
   "source": [
    "<!-- Using slicing, extract the first four elements from the list. -->"
   ]
  },
  {
   "cell_type": "code",
   "execution_count": 90,
   "id": "a3b01c5c",
   "metadata": {},
   "outputs": [
    {
     "data": {
      "text/plain": [
       "[15, 40, 50, 100]"
      ]
     },
     "execution_count": 90,
     "metadata": {},
     "output_type": "execute_result"
    }
   ],
   "source": [
    "Numbers = [15, 40, 50, 100, 115, 140]\n",
    "# Numbers[:4]\n",
    "# Numbers[:-2]\n",
    "Numbers[-6:-2]"
   ]
  },
  {
   "cell_type": "code",
   "execution_count": 1,
   "id": "1a6bd53a",
   "metadata": {},
   "outputs": [
    {
     "data": {
      "text/plain": [
       "{'meal_1': 'Spaghetti',\n",
       " 'meal_2': 'Fries',\n",
       " 'meal_3': 'Hamburger',\n",
       " 'meal_4': 'Lasagna',\n",
       " 'meal_5': 'Noodle'}"
      ]
     },
     "execution_count": 1,
     "metadata": {},
     "output_type": "execute_result"
    }
   ],
   "source": [
    "Menu = {'meal_1':'Spaghetti', 'meal_2':'Fries', 'meal_3':'Hamburger', 'meal_4':'Lasagna'}\n",
    "Menu['meal_2']\n",
    "Menu['meal_5'] = 'Noodle'\n",
    "Menu"
   ]
  },
  {
   "cell_type": "markdown",
   "id": "ff8eb929",
   "metadata": {},
   "source": [
    "#### Revision Stat"
   ]
  },
  {
   "cell_type": "markdown",
   "id": "299fa83e",
   "metadata": {},
   "source": [
    "<!-- #Practice -->"
   ]
  },
  {
   "cell_type": "code",
   "execution_count": 7,
   "id": "f9298ffe",
   "metadata": {},
   "outputs": [
    {
     "data": {
      "text/html": [
       "<div>\n",
       "<style scoped>\n",
       "    .dataframe tbody tr th:only-of-type {\n",
       "        vertical-align: middle;\n",
       "    }\n",
       "\n",
       "    .dataframe tbody tr th {\n",
       "        vertical-align: top;\n",
       "    }\n",
       "\n",
       "    .dataframe thead th {\n",
       "        text-align: right;\n",
       "    }\n",
       "</style>\n",
       "<table border=\"1\" class=\"dataframe\">\n",
       "  <thead>\n",
       "    <tr style=\"text-align: right;\">\n",
       "      <th></th>\n",
       "      <th>MovieID</th>\n",
       "      <th>Title</th>\n",
       "      <th>MPAA Rating</th>\n",
       "      <th>Budget</th>\n",
       "      <th>Gross</th>\n",
       "      <th>Release Date</th>\n",
       "      <th>Genre</th>\n",
       "      <th>Runtime</th>\n",
       "      <th>Rating</th>\n",
       "      <th>Rating Count</th>\n",
       "      <th>Summary</th>\n",
       "    </tr>\n",
       "  </thead>\n",
       "  <tbody>\n",
       "    <tr>\n",
       "      <th>0</th>\n",
       "      <td>1</td>\n",
       "      <td>Look Who's Talking</td>\n",
       "      <td>PG-13</td>\n",
       "      <td>7500000.0</td>\n",
       "      <td>296000000.0</td>\n",
       "      <td>1989-10-12</td>\n",
       "      <td>Romance</td>\n",
       "      <td>93.0</td>\n",
       "      <td>5.9</td>\n",
       "      <td>73638.0</td>\n",
       "      <td>After a single, career-minded woman is left on...</td>\n",
       "    </tr>\n",
       "    <tr>\n",
       "      <th>1</th>\n",
       "      <td>2</td>\n",
       "      <td>Driving Miss Daisy</td>\n",
       "      <td>PG</td>\n",
       "      <td>7500000.0</td>\n",
       "      <td>145793296.0</td>\n",
       "      <td>1989-12-13</td>\n",
       "      <td>Comedy</td>\n",
       "      <td>99.0</td>\n",
       "      <td>7.4</td>\n",
       "      <td>91075.0</td>\n",
       "      <td>An old Jewish woman and her African-American c...</td>\n",
       "    </tr>\n",
       "    <tr>\n",
       "      <th>2</th>\n",
       "      <td>3</td>\n",
       "      <td>Turner &amp; Hooch</td>\n",
       "      <td>PG</td>\n",
       "      <td>13000000.0</td>\n",
       "      <td>71079915.0</td>\n",
       "      <td>1989-07-28</td>\n",
       "      <td>Crime</td>\n",
       "      <td>100.0</td>\n",
       "      <td>7.2</td>\n",
       "      <td>91415.0</td>\n",
       "      <td>Det. Scott Turner (Tom Hanks) is an uptight, b...</td>\n",
       "    </tr>\n",
       "    <tr>\n",
       "      <th>3</th>\n",
       "      <td>4</td>\n",
       "      <td>Born on the Fourth of July</td>\n",
       "      <td>R</td>\n",
       "      <td>14000000.0</td>\n",
       "      <td>161001698.0</td>\n",
       "      <td>1989-12-20</td>\n",
       "      <td>War</td>\n",
       "      <td>145.0</td>\n",
       "      <td>7.2</td>\n",
       "      <td>91415.0</td>\n",
       "      <td>The biography of Ron Kovic. Paralyzed in the V...</td>\n",
       "    </tr>\n",
       "    <tr>\n",
       "      <th>4</th>\n",
       "      <td>5</td>\n",
       "      <td>Field of Dreams</td>\n",
       "      <td>PG</td>\n",
       "      <td>15000000.0</td>\n",
       "      <td>84431625.0</td>\n",
       "      <td>1989-04-21</td>\n",
       "      <td>Drama</td>\n",
       "      <td>107.0</td>\n",
       "      <td>7.5</td>\n",
       "      <td>101702.0</td>\n",
       "      <td>An Iowa corn farmer, hearing voices, interpret...</td>\n",
       "    </tr>\n",
       "  </tbody>\n",
       "</table>\n",
       "</div>"
      ],
      "text/plain": [
       "   MovieID                       Title MPAA Rating      Budget        Gross  \\\n",
       "0        1          Look Who's Talking       PG-13   7500000.0  296000000.0   \n",
       "1        2          Driving Miss Daisy          PG   7500000.0  145793296.0   \n",
       "2        3              Turner & Hooch          PG  13000000.0   71079915.0   \n",
       "3        4  Born on the Fourth of July           R  14000000.0  161001698.0   \n",
       "4        5             Field of Dreams          PG  15000000.0   84431625.0   \n",
       "\n",
       "  Release Date    Genre  Runtime  Rating  Rating Count  \\\n",
       "0   1989-10-12  Romance     93.0     5.9       73638.0   \n",
       "1   1989-12-13   Comedy     99.0     7.4       91075.0   \n",
       "2   1989-07-28    Crime    100.0     7.2       91415.0   \n",
       "3   1989-12-20      War    145.0     7.2       91415.0   \n",
       "4   1989-04-21    Drama    107.0     7.5      101702.0   \n",
       "\n",
       "                                             Summary  \n",
       "0  After a single, career-minded woman is left on...  \n",
       "1  An old Jewish woman and her African-American c...  \n",
       "2  Det. Scott Turner (Tom Hanks) is an uptight, b...  \n",
       "3  The biography of Ron Kovic. Paralyzed in the V...  \n",
       "4  An Iowa corn farmer, hearing voices, interpret...  "
      ]
     },
     "execution_count": 7,
     "metadata": {},
     "output_type": "execute_result"
    }
   ],
   "source": [
    "import pandas as pd \n",
    "import numpy as num\n",
    "import matplotlib.pyplot as plt\n",
    "import seaborn as sns\n",
    "\n",
    "movie_df = pd.read_csv('movies.csv')\n",
    "movie_df.head()\n"
   ]
  },
  {
   "cell_type": "code",
   "execution_count": null,
   "id": "8206c5a2",
   "metadata": {},
   "outputs": [
    {
     "data": {
      "text/plain": [
       "(616, 11)"
      ]
     },
     "execution_count": 10,
     "metadata": {},
     "output_type": "execute_result"
    }
   ],
   "source": [
    "# Assessing Data\n",
    "# After you have completed all the steps above, you should be able to see the movies dataset \n",
    "# in the form of a table.\n",
    "# It is now time to assess the data. This process provides information such as:\n",
    "# the number of rows and columns present in the data set (i.e. the shape of the DataFrame)\n",
    "# columns present in the data set, along with the data type (use info or dtypes method)\n",
    "# check how many NaN we have for MPAA Rating, Budget, Gross, Release Date, Genre, Runtime, \n",
    "# Rating and Rating Count columns\n",
    "# understand which kind of information each column represents\n",
    "# Please try to understand all these things using Pandas methods.\n",
    "\n",
    "movie_df.shape\n",
    "movie_df"
   ]
  },
  {
   "cell_type": "code",
   "execution_count": null,
   "id": "874e9024",
   "metadata": {},
   "outputs": [],
   "source": []
  }
 ],
 "metadata": {
  "kernelspec": {
   "display_name": "SilverFoxes",
   "language": "python",
   "name": "python3"
  },
  "language_info": {
   "codemirror_mode": {
    "name": "ipython",
    "version": 3
   },
   "file_extension": ".py",
   "mimetype": "text/x-python",
   "name": "python",
   "nbconvert_exporter": "python",
   "pygments_lexer": "ipython3",
   "version": "3.12.11"
  }
 },
 "nbformat": 4,
 "nbformat_minor": 5
}
